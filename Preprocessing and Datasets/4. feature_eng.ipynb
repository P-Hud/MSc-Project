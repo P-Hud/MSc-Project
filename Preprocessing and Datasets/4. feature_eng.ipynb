{
 "cells": [
  {
   "cell_type": "code",
   "execution_count": 1,
   "id": "a35f1af6-74a0-4a31-9c10-54217121ae82",
   "metadata": {},
   "outputs": [],
   "source": [
    "import pandas as pd"
   ]
  },
  {
   "cell_type": "code",
   "execution_count": 2,
   "id": "694bc734-f557-425a-9c81-1525b264a236",
   "metadata": {},
   "outputs": [],
   "source": [
    "# Load clean trimmed dataframes\n",
    "df_30min = pd.read_csv('BTC_30min_clean_trimmed.csv')\n",
    "df_4hr = pd.read_csv('BTC_4h_clean_trimmed.csv') \n",
    "df_daily = pd.read_csv('BTC_daily_clean_trimmed.csv')"
   ]
  },
  {
   "cell_type": "code",
   "execution_count": 7,
   "id": "40ea05ad-ef5f-4afd-a628-ec42e7faa585",
   "metadata": {},
   "outputs": [],
   "source": [
    "# Convert to datetime\n",
    "all_dfs = [df_30min, df_4hr, df_daily]\n",
    "for df in all_dfs:\n",
    "    df['open_time'] = pd.to_datetime(df['open_time'])\n",
    "    df['close_time'] = pd.to_datetime(df['close_time'])"
   ]
  },
  {
   "cell_type": "code",
   "execution_count": 10,
   "id": "b32b9999-663f-405f-9911-c160af823cc3",
   "metadata": {},
   "outputs": [],
   "source": [
    "# Create differenced values for OHLC columns\n",
    "ohlc_cols = ['open', 'high', 'low', 'close']\n",
    "for df in all_dfs:\n",
    "    for col in ohlc_cols:\n",
    "        df.loc[:, f'{col}_diff'] = df[col].diff()\n",
    "\n",
    "    # Create 'direction' variable (1=up, 0=down)\n",
    "    df.loc[:, 'direction'] = df['close_diff'].apply(lambda x: 1 if x > 0 else 0)"
   ]
  },
  {
   "cell_type": "code",
   "execution_count": null,
   "id": "405882b3-00b5-477f-aa41-5bf6452e58c3",
   "metadata": {},
   "outputs": [],
   "source": [
    "# Save to csv\n",
    "df_30min.to_csv(\"BTC_30min_wDiffs.csv\", index=False)\n",
    "df_4hr.to_csv(\"BTC_4h_wDiffs.csv\", index=False)\n",
    "df_daily.to_csv(\"BTC_daily_wDiffs.csv\", index=False)\n"
   ]
  }
 ],
 "metadata": {
  "kernelspec": {
   "display_name": "Python 3 (ipykernel)",
   "language": "python",
   "name": "python3"
  },
  "language_info": {
   "codemirror_mode": {
    "name": "ipython",
    "version": 3
   },
   "file_extension": ".py",
   "mimetype": "text/x-python",
   "name": "python",
   "nbconvert_exporter": "python",
   "pygments_lexer": "ipython3",
   "version": "3.11.9"
  }
 },
 "nbformat": 4,
 "nbformat_minor": 5
}
