{
 "cells": [
  {
   "cell_type": "code",
   "execution_count": null,
   "id": "63cb93cb-9f0f-4c79-9e3b-10d642edb8e6",
   "metadata": {},
   "outputs": [],
   "source": []
  }
 ],
 "metadata": {
  "kernelspec": {
   "display_name": "",
   "name": ""
  },
  "language_info": {
   "name": ""
  }
 },
 "nbformat": 4,
 "nbformat_minor": 5
}
