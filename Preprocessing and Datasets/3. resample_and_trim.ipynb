{
 "cells": [
  {
   "cell_type": "code",
   "execution_count": 1,
   "id": "63cb93cb-9f0f-4c79-9e3b-10d642edb8e6",
   "metadata": {},
   "outputs": [],
   "source": [
    "import pandas as pd"
   ]
  },
  {
   "cell_type": "code",
   "execution_count": 7,
   "id": "adcc1712-3cb3-4fb1-9a27-baaecd874d0a",
   "metadata": {},
   "outputs": [],
   "source": [
    "# Load the clean 1min df\n",
    "df = pd.read_csv('BTC_1min_clean.csv')\n",
    "\n",
    "# Convert to datetime\n",
    "df['open_time'] = pd.to_datetime(df['open_time'])"
   ]
  },
  {
   "cell_type": "code",
   "execution_count": 8,
   "id": "be919b1f-81ba-4d46-8ba2-0f83eafb7225",
   "metadata": {},
   "outputs": [],
   "source": [
    "# Function to resample dataframe to a different time frame\n",
    "def resample_data(df, timeframe='30min'):\n",
    "    \"\"\"\n",
    "    Resamples the DataFrame to a specified time frame.\n",
    "\n",
    "    Parameters:\n",
    "    df (DataFrame): The original DataFrame.\n",
    "    timeframe (str): The resampling time frame.\n",
    "\n",
    "    Returns:\n",
    "    DataFrame: The resampled DataFrame.\n",
    "    \"\"\"\n",
    "    df_resampled = df.resample(timeframe, on='open_time').agg({\n",
    "        'open': 'first',\n",
    "        'high': 'max',\n",
    "        'low': 'min',\n",
    "        'close': 'last',\n",
    "        'volume': 'sum',\n",
    "        'quote_vol': 'sum',\n",
    "        'count': 'sum',\n",
    "        'buy_base': 'sum',\n",
    "        'buy_quote': 'sum'\n",
    "    }).dropna().reset_index()\n",
    "    \n",
    "    # Create the new 'close_time' for the resampled data\n",
    "    df_resampled['close_time'] = df_resampled['open_time'] + pd.to_timedelta(timeframe)\n",
    "    \n",
    "    return df_resampled"
   ]
  },
  {
   "cell_type": "code",
   "execution_count": 13,
   "id": "794d3739-1e53-40c0-902e-3ca9f43a34dc",
   "metadata": {},
   "outputs": [],
   "source": [
    "# Create 30min, 4hr and daily dataframes\n",
    "df_30min = resample_data(df, timeframe='30min')\n",
    "df_4hr = resample_data(df, timeframe='240min')\n",
    "df_daily = resample_data(df, timeframe='1440min')\n",
    "\n",
    "all_dfs = [df_30min, df_4hr, df_daily]"
   ]
  },
  {
   "cell_type": "code",
   "execution_count": 11,
   "id": "12d71063-2711-4218-99ea-11ddbd5d12f9",
   "metadata": {},
   "outputs": [],
   "source": [
    "# Create desire start/end dates\n",
    "start_date_copy = '2017-09-23' # This date is 1 day early to prevent NaN first row\n",
    "end_date_copy = '2020-11-30'"
   ]
  },
  {
   "cell_type": "code",
   "execution_count": 14,
   "id": "711dec94-64bb-41fc-b09d-eda61a9123a1",
   "metadata": {},
   "outputs": [],
   "source": [
    "# Filter the DataFrame to include data within the specified range\n",
    "df_30min_trimmed = df_30min[(df_30min['open_time'] >= start_date_copy) & (df_30min['open_time'] <= end_date_copy)]\n",
    "df_4hr_trimmed = df_4hr[(df_4hr['open_time'] >= start_date_copy) & (df_4hr['open_time'] <= end_date_copy)]\n",
    "df_daily_trimmed = df_daily[(df_daily['open_time'] >= start_date_copy) & (df_daily['open_time'] <= end_date_copy)]\n",
    "\n",
    "# Reset the index and drop the old index column\n",
    "df_30min_trimmed.reset_index(drop=True, inplace=True)\n",
    "df_4hr_trimmed.reset_index(drop=True, inplace=True)\n",
    "df_daily_trimmed.reset_index(drop=True, inplace=True)"
   ]
  },
  {
   "cell_type": "code",
   "execution_count": 16,
   "id": "7f02c0a1-4ce6-4654-abc0-5e15ce27e860",
   "metadata": {},
   "outputs": [],
   "source": [
    "# Save to CSV\n",
    "df_30min_trimmed.to_csv(\"BTC_30min_clean_trimmed.csv\", index=False)\n",
    "df_4hr_trimmed.to_csv(\"BTC_4h_clean_trimmed.csv\", index=False)\n",
    "df_daily_trimmed.to_csv(\"BTC_daily_clean_trimmed.csv\", index=False)"
   ]
  },
  {
   "cell_type": "code",
   "execution_count": null,
   "id": "252c36e6-c16c-41b9-bbb6-d51f00f97483",
   "metadata": {},
   "outputs": [],
   "source": []
  }
 ],
 "metadata": {
  "kernelspec": {
   "display_name": "Python 3 (ipykernel)",
   "language": "python",
   "name": "python3"
  },
  "language_info": {
   "codemirror_mode": {
    "name": "ipython",
    "version": 3
   },
   "file_extension": ".py",
   "mimetype": "text/x-python",
   "name": "python",
   "nbconvert_exporter": "python",
   "pygments_lexer": "ipython3",
   "version": "3.11.9"
  }
 },
 "nbformat": 4,
 "nbformat_minor": 5
}
